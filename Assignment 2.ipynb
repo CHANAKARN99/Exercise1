{
 "cells": [
  {
   "cell_type": "markdown",
   "id": "644caf3e",
   "metadata": {},
   "source": [
    "# Assignment 2\n",
    "### Date: 18 Feb 2023\n",
    "##  Chanakarn Charumalai"
   ]
  },
  {
   "cell_type": "code",
   "execution_count": 2,
   "id": "e84f28e0",
   "metadata": {},
   "outputs": [
    {
     "name": "stdout",
     "output_type": "stream",
     "text": [
      "Enter first number (a): 100\n",
      "Enter second number (b): 29\n",
      "The sum of (a+b)x3 = 387\n",
      "The result of the calculation was:\n",
      "149769\n"
     ]
    }
   ],
   "source": [
    "### Exercise 1\n",
    "a = int(input(\"Enter first number (a): \"))\n",
    "b = int(input(\"Enter second number (b): \"))\n",
    "c = ((a+b)*3)\n",
    "print('The sum of (a+b)x3 =',c)\n",
    "print('The result of the calculation was:')\n",
    "print (c**2)"
   ]
  },
  {
   "cell_type": "code",
   "execution_count": 3,
   "id": "dcd3c16f",
   "metadata": {},
   "outputs": [
    {
     "name": "stdout",
     "output_type": "stream",
     "text": [
      "Name: John\n",
      "Year of birth: 1995\n",
      "Age: 26\n",
      "Password:  95Joh676\n"
     ]
    }
   ],
   "source": [
    "### Exercise 2\n",
    "N = input('Name: ' )\n",
    "n = str(N)\n",
    "#print(n)\n",
    "YOB  = int(input('Year of birth: '))\n",
    "yob = str(YOB)\n",
    "#print(yob)\n",
    "A  = int(input('Age: '))\n",
    "AA = str(A**2)\n",
    "#print(AA)\n",
    "print ('Password: ', yob[2]+yob[3]+n[0:3]+AA)"
   ]
  },
  {
   "cell_type": "code",
   "execution_count": 4,
   "id": "db16a8c6",
   "metadata": {},
   "outputs": [
    {
     "name": "stdout",
     "output_type": "stream",
     "text": [
      "Enter first number (P): 5\n",
      "Enter second number (Q): 6\n",
      "One of the numbers is even\n"
     ]
    }
   ],
   "source": [
    "### Exercise 3\n",
    "P = int(input(\"Enter first number (P): \"))\n",
    "Q = int(input(\"Enter second number (Q): \"))\n",
    "if P%2 == 0 and Q%2 == 0:\n",
    "    print('Both numbers are odd')\n",
    "elif P%2!=0 and Q%2!=0:\n",
    "    print('Both numbers are even')       \n",
    "else:\n",
    "    print ('One of the numbers is even')"
   ]
  },
  {
   "cell_type": "code",
   "execution_count": 5,
   "id": "f3195dc4",
   "metadata": {},
   "outputs": [
    {
     "name": "stdout",
     "output_type": "stream",
     "text": [
      "Give an integer: 5\n",
      "The sum was: \n",
      "0\n",
      "The sum was: \n",
      "1\n",
      "The sum was: \n",
      "3\n",
      "The sum was: \n",
      "6\n",
      "The sum was: \n",
      "10\n"
     ]
    }
   ],
   "source": [
    "### Exercise 4\n",
    "sum = 0\n",
    "num = int(input(\"Give an integer: \"))\n",
    "for i in range(num):\n",
    "    sum +=i\n",
    "    print('The sum was: ')\n",
    "    print(sum)"
   ]
  },
  {
   "cell_type": "code",
   "execution_count": 6,
   "id": "2e9e9257",
   "metadata": {},
   "outputs": [
    {
     "name": "stdout",
     "output_type": "stream",
     "text": [
      "Player:2\n",
      "Try a greater number.\n",
      "Player:7\n",
      "Try a greater number.\n",
      "Player:8\n",
      "That is right! Number of tries 3\n"
     ]
    }
   ],
   "source": [
    "### Excercise 5\n",
    "import random\n",
    "x = random.randint(1,10)\n",
    "a = -1\n",
    "count = 0\n",
    "\n",
    "while(a != x):\n",
    "    a = int(input('Player:'))\n",
    "    count = count+1\n",
    "    if a == x:\n",
    "        print ('That is right! Number of tries', count)\n",
    "    else:\n",
    "        if a < x:\n",
    "            print ('Try a greater number.')\n",
    "        else: \n",
    "            print ('Try a smaller number.')"
   ]
  },
  {
   "cell_type": "code",
   "execution_count": null,
   "id": "b6623ada",
   "metadata": {},
   "outputs": [],
   "source": []
  }
 ],
 "metadata": {
  "kernelspec": {
   "display_name": "Python 3 (ipykernel)",
   "language": "python",
   "name": "python3"
  },
  "language_info": {
   "codemirror_mode": {
    "name": "ipython",
    "version": 3
   },
   "file_extension": ".py",
   "mimetype": "text/x-python",
   "name": "python",
   "nbconvert_exporter": "python",
   "pygments_lexer": "ipython3",
   "version": "3.9.13"
  }
 },
 "nbformat": 4,
 "nbformat_minor": 5
}
